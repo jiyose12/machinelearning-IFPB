{
  "nbformat": 4,
  "nbformat_minor": 0,
  "metadata": {
    "colab": {
      "name": "projeto_wine_databaseMLP_Kmeans.ipynb",
      "provenance": [],
      "collapsed_sections": [],
      "include_colab_link": true
    },
    "kernelspec": {
      "name": "python3",
      "display_name": "Python 3"
    }
  },
  "cells": [
    {
      "cell_type": "markdown",
      "metadata": {
        "id": "view-in-github",
        "colab_type": "text"
      },
      "source": [
        "<a href=\"https://colab.research.google.com/github/jiyose12/machinelearning-IFPB/blob/master/projeto_wine_databaseMLP_Kmeans.ipynb\" target=\"_parent\"><img src=\"https://colab.research.google.com/assets/colab-badge.svg\" alt=\"Open In Colab\"/></a>"
      ]
    },
    {
      "cell_type": "code",
      "metadata": {
        "id": "PoWtUKaTPJGl"
      },
      "source": [
        "from sklearn import metrics\n",
        "import pandas as pd\n",
        "from sklearn.neural_network import MLPClassifier\n",
        "from sklearn.neighbors import KNeighborsClassifier\n",
        "import numpy as np\n",
        "from sklearn import tree\n",
        "from sklearn.model_selection import train_test_split\n",
        "import matplotlib.pyplot as plt\n",
        "from sklearn.cluster import KMeans\n",
        "from collections import Counter\n",
        "from sklearn import metrics\n",
        "\n",
        "url = \"https://raw.githubusercontent.com/victorx9999/MachineLearning/master/data/wine.data\"\n",
        " \n",
        "# Carregar base de dados\n",
        "dataset = pd.read_csv(url, header=None)\n",
        " \n",
        "columns = len(dataset.columns)\n",
        " \n",
        "y = dataset[0] # extrai a primeira coluna, que é o label\n",
        "X = dataset.loc[:,1:columns - 1]\n",
        "# print(X)\n",
        "# print(columns)\n",
        "# Transforma para Array NumPy\n",
        "X = np.array(X)\n",
        "y = np.array(y)"
      ],
      "execution_count": 37,
      "outputs": []
    },
    {
      "cell_type": "code",
      "metadata": {
        "id": "_gB9dT8-POKW"
      },
      "source": [
        "from sklearn.model_selection import StratifiedKFold\n",
        "from collections import Counter\n",
        "folds = 10\n",
        " \n",
        "kf = StratifiedKFold(n_splits = folds)\n",
        " \n",
        "## 10 conjuntos de dados\n",
        "X_train = []\n",
        "y_train = []\n",
        " \n",
        "X_test = []\n",
        "y_test = []\n",
        " \n",
        "for train_index, test_index in kf.split(X,y):\n",
        "  \n",
        "  X_train.append(X[train_index])\n",
        "  X_test.append(X[test_index])\n",
        "  \n",
        "  y_train.append(y[train_index])\n",
        "  y_test.append(y[test_index])"
      ],
      "execution_count": 38,
      "outputs": []
    },
    {
      "cell_type": "code",
      "metadata": {
        "id": "XgLAjoXzPgJh"
      },
      "source": [
        "wine_results = {\n",
        "    'tree_entropy': [],\n",
        "    'tree_gini': [],\n",
        "    'knn5': [],\n",
        "    'knn10': [],\n",
        "    'mlp_tanh_51010': [],\n",
        "    'mlp_relu_612': [],\n",
        "    'mlp_tanh_612': [],\n",
        "    'mlp_relu_51010': [],\n",
        "    'kmeans': [],\n",
        "} \n",
        "# Configuração do Kmeans\n",
        "myset = set(y) # Cria um conjunto. Em conjuntos, dados não se repetem. Assim, esse conjunto conterá apenas um valor de cada\n",
        "clusters = len(myset) # Quantos clusters teremos no KMeans\n",
        "\n",
        "for i in range(folds):\n",
        "\n",
        "  # MLP TANH\n",
        "  mlpTanhModel = MLPClassifier(hidden_layer_sizes=(5,10,10), activation='tanh', max_iter=3000, random_state=1)\n",
        "  mlpTanhModel = mlpTanhModel.fit(X_train[i], y_train[i])\n",
        "  mlpTanhResult = mlpTanhModel.predict(X_test[i])\n",
        "  mlpTanhAcc = metrics.accuracy_score(mlpTanhResult, y_test[i])\n",
        "  wine_results['mlp_tanh_51010'].append(round(mlpTanhAcc * 100))\n",
        "  # mlpTanhAcertos.append(wine_results['mlp1'])\n",
        "  # mlpTanhErros.append(100 - np.mean(mlpTanhAcertos))\n",
        "\n",
        "  # MLP TANH 2.0\n",
        "  mlpTanhModel2 = MLPClassifier(hidden_layer_sizes=(6,12), activation='tanh', max_iter=3000, random_state=1)\n",
        "  mlpTanhModel2 = mlpTanhModel2.fit(X_train[i], y_train[i])\n",
        "  mlpTanhResult2 = mlpTanhModel2.predict(X_test[i])\n",
        "  mlpTanhAcc2 = metrics.accuracy_score(mlpTanhResult2, y_test[i])\n",
        "  wine_results['mlp_tanh_612'].append(round(mlpTanhAcc2 * 100))\n",
        "  # mlpTanhAcertosDif.append(wine_results['mlp3'])\n",
        "  # mlpTanhErrosDif.append(100 - np.mean(mlpTanhAcertosDif))\n",
        "\n",
        "  # MLP RELU\n",
        "  mlpReluModel = MLPClassifier(hidden_layer_sizes=(6,12), activation=\"relu\", max_iter=3000, random_state=1)\n",
        "  mlpReluModel = mlpReluModel.fit(X_train[i], y_train[i])\n",
        "  mlpReluResult = mlpReluModel.predict(X_test[i])\n",
        "  mlpReluAcc = metrics.accuracy_score(mlpReluResult, y_test[i])\n",
        "  wine_results['mlp_relu_612'].append(round(mlpReluAcc * 100))\n",
        "  # mlpReluAcertos.append(wine_results['mlp2'])\n",
        "  # mlpReluErros.append(100 - np.mean(mlpReluAcertos))\n",
        "\n",
        "  #MLP RELU 2.0  \n",
        "  mlpReluModel2 = MLPClassifier(hidden_layer_sizes=(5,10,10), activation=\"relu\", max_iter=3000, random_state=1)\n",
        "  mlpReluModel2 = mlpReluModel2.fit(X_train[i], y_train[i])\n",
        "  mlpReluResult2 = mlpReluModel2.predict(X_test[i])\n",
        "  mlpReluAcc2 = metrics.accuracy_score(mlpReluResult2, y_test[i])\n",
        "  wine_results['mlp_relu_51010'].append(round(mlpReluAcc2 * 100))\n",
        "  # mlpReluAcertosDif.append(wine_results['mlp4'])\n",
        "  # mlpReluErrosDif.append(100 - np.mean(mlpReluAcertosDif))\n",
        "\n",
        " \n",
        "  # ARVORE ENTROPY\n",
        "  arvoreEntropyModel = tree.DecisionTreeClassifier(criterion=\"entropy\")\n",
        "  arvoreEntropyModel = arvoreEntropyModel.fit(X_train[i], y_train[i])\n",
        "  arvoreEntropyresult = arvoreEntropyModel.predict(X_test[i])\n",
        "  arvoreEntropyacc = metrics.accuracy_score(arvoreEntropyresult, y_test[i])\n",
        "  wine_results['tree_entropy'].append(round(arvoreEntropyacc * 100))\n",
        "  # arvoreEntropyAcertos.append(wine_results['tree_entropy'])\n",
        "  # arvoreEntropyErros.append(100 - np.mean(arvoreEntropyAcertos))\n",
        " \n",
        "  # ARVORE GINI\n",
        "  arvoreGiniModel = tree.DecisionTreeClassifier(criterion=\"gini\")\n",
        "  arvoreGiniModel = arvoreGiniModel.fit(X_train[i], y_train[i])\n",
        "  arvoreGiniresult = arvoreGiniModel.predict(X_test[i])\n",
        "  arvoreGiniacc = metrics.accuracy_score(arvoreGiniresult, y_test[i])\n",
        "  wine_results['tree_gini'].append(round(arvoreGiniacc * 100))\n",
        "  # arvoreGiniAcertos.append(wine_results['tree_gini'])\n",
        "  # arvoreGiniErros.append(100 - np.mean(arvoreGiniAcertos))\n",
        "\n",
        "  # KNN 5\n",
        "  knn5model = KNeighborsClassifier(n_neighbors=5, metric='manhattan', algorithm='brute')\n",
        "  knn5model = knn5model.fit(X_train[i], y_train[i])\n",
        "  result_knn5 = knn5model.predict(X_test[i])\n",
        "  knn5acc = metrics.accuracy_score(result_knn5, y_test[i])\n",
        "  wine_results['knn5'].append(round(knn5acc * 100))\n",
        "  # knn5Acertos.append(wine_results['knn5'])\n",
        "  # knn5Erros.append(100 - np.mean(knn5Acertos))\n",
        "\n",
        "  # KNN 10\n",
        "  knn10model = KNeighborsClassifier(n_neighbors=10, metric='manhattan', algorithm='brute')\n",
        "  knn10model = knn10model.fit(X_train[i], y_train[i])\n",
        "  result_knn10 = knn10model.predict(X_test[i])\n",
        "  knn10acc = metrics.accuracy_score(result_knn10, y_test[i])\n",
        "  wine_results['knn10'].append(round(knn10acc * 100))\n",
        "  # knn10Acertos.append(wine_results['knn10'])\n",
        "  # knn10Erros.append(100 - np.mean(knn10Acertos))\n",
        "\n",
        "  # KMEANS\n",
        "  KMeansModel = KMeans(n_clusters = clusters)\n",
        "  KMeansModel = KMeansModel.fit(X_train[i])\n",
        "  # Pegar os labels dos padrões de Treinamento\n",
        "  labels = KMeansModel.labels_\n",
        "\n",
        "  map_labels = []\n",
        "\n",
        "  for i in range(clusters):\n",
        "    map_labels.append([])\n",
        "\n",
        "  new_y_train = y_train[i]\n",
        "\n",
        "  for i in range(len(y_train[i])):\n",
        "    for c in range(clusters):\n",
        "      if labels[i] == c:\n",
        "        map_labels[c].append(new_y_train[i])\n",
        "\n",
        "  # print(map_labels)\n",
        "\n",
        "  # Criar dicionário com os labells a serem mapeados\n",
        "  mapping = {}\n",
        "\n",
        "  for i in range(clusters):\n",
        "    final = Counter(map_labels[i]) # contar a classe que mais aparece\n",
        "    value = final.most_common(1)[0][0] # retorna a classe com maior frequência\n",
        "    mapping[i] = value\n",
        "\n",
        "  # print(mapping)\n",
        "  result = KMeansModel.predict(X_test[i])\n",
        "  result = [mapping[j] for j in result]\n",
        "\n",
        "  acc = metrics.accuracy_score(result, y_test[i])\n",
        "  wine_results['kmeans'].append(round(acc * 100))"
      ],
      "execution_count": 39,
      "outputs": []
    },
    {
      "cell_type": "code",
      "metadata": {
        "colab": {
          "base_uri": "https://localhost:8080/"
        },
        "id": "tOL8I4GC846w",
        "outputId": "301f9741-3c51-4568-d8fa-28245b0ce690"
      },
      "source": [
        "print('MLP TANH (5,10,10)')\n",
        "print(round(np.mean(wine_results['mlp_tanh_51010'])))\n",
        "print(\"MLP TANH (6,12)\")\n",
        "print(round(np.mean(wine_results['mlp_tanh_612'])))\n",
        "print('MLP RELU (5,10,10)')\n",
        "print(round(np.mean(wine_results['mlp_relu_51010'])))\n",
        "print(\"MLP RELU (6,12)\")\n",
        "print(round(np.mean(wine_results['mlp_relu_612'])))\n",
        "print(\"ARVORE GINI\")\n",
        "print(round(np.mean(wine_results['tree_gini'])))\n",
        "print(\"ARVORE ENTROPY\")\n",
        "print(round(np.mean(wine_results['tree_entropy'])))\n",
        "print(\"KNN 5\")\n",
        "print(round(np.mean(wine_results['knn5'])))\n",
        "print(\"KNN 10\")\n",
        "print(round(np.mean(wine_results['knn10'])))\n",
        "print(\"KMEANS\")\n",
        "print(round(np.mean(wine_results['kmeans'])))\n",
        "\n",
        "\n",
        "\n"
      ],
      "execution_count": 41,
      "outputs": [
        {
          "output_type": "stream",
          "text": [
            "MLP TANH (5,10,10)\n",
            "82.0\n",
            "MLP TANH (6,12)\n",
            "59.0\n",
            "MLP RELU (5,10,10)\n",
            "92.0\n",
            "MLP RELU (6,12)\n",
            "56.0\n",
            "ARVORE GINI\n",
            "86.0\n",
            "ARVORE ENTROPY\n",
            "90.0\n",
            "KNN 5\n",
            "74.0\n",
            "KNN 10\n",
            "76.0\n",
            "KMEANS\n",
            "72.0\n"
          ],
          "name": "stdout"
        }
      ]
    },
    {
      "cell_type": "code",
      "metadata": {
        "colab": {
          "base_uri": "https://localhost:8080/",
          "height": 299
        },
        "id": "AEOSCOqts59J",
        "outputId": "3ff2fdb2-1bfd-4aec-c750-7109bb47db38"
      },
      "source": [
        "# Gráfico de Perdas MLPs\n",
        "import matplotlib.pyplot as plt\n",
        "\n",
        "# print(\"MLP Tahn 5,10,10\")\n",
        "# mlpTanhModel = MLPClassifier(hidden_layer_sizes=(5,10,10), activation='tanh', max_iter=3000, random_state=1)\n",
        "# mlpTanhModel = mlpTanhModel.fit(X_train[0], y_train[0])\n",
        "# plt.plot(mlpTanhModel.loss_curve_)\n",
        "print(\"MLP Relu 5,10,10\")\n",
        "mlpReluModel = MLPClassifier(hidden_layer_sizes=(5,10,10), activation='relu', max_iter=3000, random_state=1)\n",
        "mlpReluModel = mlpReluModel.fit(X_train[0], y_train[0])\n",
        "plt.plot(mlpReluModel.loss_curve_)\n",
        "# print(\"MLP Tahn 6,12\")\n",
        "# mlpTanhModel2 = MLPClassifier(hidden_layer_sizes=(6,12), activation='tanh', max_iter=3000, random_state=1)\n",
        "# mlpTanhModel2 = mlpTanhModel2.fit(X_train[0], y_train[0])\n",
        "# plt.plot(mlpTanhModel2.loss_curve_)\n",
        "# print(\"MLP Relu 6,12\")\n",
        "mlpReluModel2 = MLPClassifier(hidden_layer_sizes=(6,12), activation='relu', max_iter=3000, random_state=1)\n",
        "mlpReluModel2 = mlpReluModel2.fit(X_train[0], y_train[0])\n",
        "plt.plot(mlpReluModel2.loss_curve_)"
      ],
      "execution_count": 46,
      "outputs": [
        {
          "output_type": "stream",
          "text": [
            "MLP Relu 5,10,10\n"
          ],
          "name": "stdout"
        },
        {
          "output_type": "execute_result",
          "data": {
            "text/plain": [
              "[<matplotlib.lines.Line2D at 0x7f4c401e39e8>]"
            ]
          },
          "metadata": {
            "tags": []
          },
          "execution_count": 46
        },
        {
          "output_type": "display_data",
          "data": {
            "image/png": "[encoded data removed]",
            "text/plain": [
              "<Figure size 432x288 with 1 Axes>"
            ]
          },
          "metadata": {
            "tags": [],
            "needs_background": "light"
          }
        }
      ]
    },
    {
      "cell_type": "code",
      "metadata": {
        "colab": {
          "base_uri": "https://localhost:8080/",
          "height": 328
        },
        "id": "5WGw-nIZwiOU",
        "outputId": "15209b89-1991-4860-c94f-bdab1a8e1d8e"
      },
      "source": [
        "pd.DataFrame.from_dict(wine_results, orient='index')"
      ],
      "execution_count": 47,
      "outputs": [
        {
          "output_type": "execute_result",
          "data": {
            "text/html": [
              "<div>\n",
              "<style scoped>\n",
              "    .dataframe tbody tr th:only-of-type {\n",
              "        vertical-align: middle;\n",
              "    }\n",
              "\n",
              "    .dataframe tbody tr th {\n",
              "        vertical-align: top;\n",
              "    }\n",
              "\n",
              "    .dataframe thead th {\n",
              "        text-align: right;\n",
              "    }\n",
              "</style>\n",
              "<table border=\"1\" class=\"dataframe\">\n",
              "  <thead>\n",
              "    <tr style=\"text-align: right;\">\n",
              "      <th></th>\n",
              "      <th>0</th>\n",
              "      <th>1</th>\n",
              "      <th>2</th>\n",
              "      <th>3</th>\n",
              "      <th>4</th>\n",
              "      <th>5</th>\n",
              "      <th>6</th>\n",
              "      <th>7</th>\n",
              "      <th>8</th>\n",
              "      <th>9</th>\n",
              "    </tr>\n",
              "  </thead>\n",
              "  <tbody>\n",
              "    <tr>\n",
              "      <th>tree_entropy</th>\n",
              "      <td>94.0</td>\n",
              "      <td>94.0</td>\n",
              "      <td>67.0</td>\n",
              "      <td>89.0</td>\n",
              "      <td>89.0</td>\n",
              "      <td>100.0</td>\n",
              "      <td>94.0</td>\n",
              "      <td>94.0</td>\n",
              "      <td>100.0</td>\n",
              "      <td>76.0</td>\n",
              "    </tr>\n",
              "    <tr>\n",
              "      <th>tree_gini</th>\n",
              "      <td>89.0</td>\n",
              "      <td>89.0</td>\n",
              "      <td>72.0</td>\n",
              "      <td>89.0</td>\n",
              "      <td>83.0</td>\n",
              "      <td>83.0</td>\n",
              "      <td>100.0</td>\n",
              "      <td>89.0</td>\n",
              "      <td>94.0</td>\n",
              "      <td>76.0</td>\n",
              "    </tr>\n",
              "    <tr>\n",
              "      <th>knn5</th>\n",
              "      <td>67.0</td>\n",
              "      <td>83.0</td>\n",
              "      <td>67.0</td>\n",
              "      <td>61.0</td>\n",
              "      <td>67.0</td>\n",
              "      <td>72.0</td>\n",
              "      <td>72.0</td>\n",
              "      <td>83.0</td>\n",
              "      <td>82.0</td>\n",
              "      <td>88.0</td>\n",
              "    </tr>\n",
              "    <tr>\n",
              "      <th>knn10</th>\n",
              "      <td>78.0</td>\n",
              "      <td>83.0</td>\n",
              "      <td>72.0</td>\n",
              "      <td>78.0</td>\n",
              "      <td>72.0</td>\n",
              "      <td>61.0</td>\n",
              "      <td>89.0</td>\n",
              "      <td>72.0</td>\n",
              "      <td>76.0</td>\n",
              "      <td>82.0</td>\n",
              "    </tr>\n",
              "    <tr>\n",
              "      <th>mlp_tanh_51010</th>\n",
              "      <td>56.0</td>\n",
              "      <td>83.0</td>\n",
              "      <td>67.0</td>\n",
              "      <td>50.0</td>\n",
              "      <td>78.0</td>\n",
              "      <td>100.0</td>\n",
              "      <td>100.0</td>\n",
              "      <td>94.0</td>\n",
              "      <td>88.0</td>\n",
              "      <td>100.0</td>\n",
              "    </tr>\n",
              "    <tr>\n",
              "      <th>mlp_relu_612</th>\n",
              "      <td>56.0</td>\n",
              "      <td>50.0</td>\n",
              "      <td>61.0</td>\n",
              "      <td>56.0</td>\n",
              "      <td>44.0</td>\n",
              "      <td>56.0</td>\n",
              "      <td>50.0</td>\n",
              "      <td>61.0</td>\n",
              "      <td>59.0</td>\n",
              "      <td>71.0</td>\n",
              "    </tr>\n",
              "    <tr>\n",
              "      <th>mlp_tanh_612</th>\n",
              "      <td>44.0</td>\n",
              "      <td>61.0</td>\n",
              "      <td>67.0</td>\n",
              "      <td>50.0</td>\n",
              "      <td>50.0</td>\n",
              "      <td>72.0</td>\n",
              "      <td>56.0</td>\n",
              "      <td>67.0</td>\n",
              "      <td>76.0</td>\n",
              "      <td>47.0</td>\n",
              "    </tr>\n",
              "    <tr>\n",
              "      <th>mlp_relu_51010</th>\n",
              "      <td>89.0</td>\n",
              "      <td>89.0</td>\n",
              "      <td>89.0</td>\n",
              "      <td>89.0</td>\n",
              "      <td>78.0</td>\n",
              "      <td>94.0</td>\n",
              "      <td>100.0</td>\n",
              "      <td>94.0</td>\n",
              "      <td>100.0</td>\n",
              "      <td>94.0</td>\n",
              "    </tr>\n",
              "    <tr>\n",
              "      <th>kmeans</th>\n",
              "      <td>72.0</td>\n",
              "      <td>72.0</td>\n",
              "      <td>72.0</td>\n",
              "      <td>72.0</td>\n",
              "      <td>72.0</td>\n",
              "      <td>72.0</td>\n",
              "      <td>72.0</td>\n",
              "      <td>67.0</td>\n",
              "      <td>72.0</td>\n",
              "      <td>72.0</td>\n",
              "    </tr>\n",
              "  </tbody>\n",
              "</table>\n",
              "</div>"
            ],
            "text/plain": [
              "                   0     1     2     3     4      5      6     7      8      9\n",
              "tree_entropy    94.0  94.0  67.0  89.0  89.0  100.0   94.0  94.0  100.0   76.0\n",
              "tree_gini       89.0  89.0  72.0  89.0  83.0   83.0  100.0  89.0   94.0   76.0\n",
              "knn5            67.0  83.0  67.0  61.0  67.0   72.0   72.0  83.0   82.0   88.0\n",
              "knn10           78.0  83.0  72.0  78.0  72.0   61.0   89.0  72.0   76.0   82.0\n",
              "mlp_tanh_51010  56.0  83.0  67.0  50.0  78.0  100.0  100.0  94.0   88.0  100.0\n",
              "mlp_relu_612    56.0  50.0  61.0  56.0  44.0   56.0   50.0  61.0   59.0   71.0\n",
              "mlp_tanh_612    44.0  61.0  67.0  50.0  50.0   72.0   56.0  67.0   76.0   47.0\n",
              "mlp_relu_51010  89.0  89.0  89.0  89.0  78.0   94.0  100.0  94.0  100.0   94.0\n",
              "kmeans          72.0  72.0  72.0  72.0  72.0   72.0   72.0  67.0   72.0   72.0"
            ]
          },
          "metadata": {
            "tags": []
          },
          "execution_count": 47
        }
      ]
    },
    {
      "cell_type": "code",
      "metadata": {
        "colab": {
          "base_uri": "https://localhost:8080/"
        },
        "id": "NncMqMsOueae",
        "outputId": "172b8caa-0203-4e61-f658-8775134fe38d"
      },
      "source": [
        "# Inicio do Kmeans\n",
        "\n",
        "myset = set(y) # Cria um conjunto. Em conjuntos, dados não se repetem. Assim, esse conjunto conterá apenas um valor de cada, ou seja: [1,2,3]\n",
        "clusters = len(myset) # Quantos clusters teremos no KMeans\n",
        "\n",
        "for i in range(folds):\n",
        "  model = KMeans(n_clusters = clusters)\n",
        "  model = model.fit(X_train[i])\n",
        "  # Pegar os labels dos padrões de Treinamento\n",
        "  labels = model.labels_\n",
        "\n",
        "  map_labels = []\n",
        "\n",
        "  for i in range(clusters):\n",
        "    map_labels.append([])\n",
        "\n",
        "  new_y_train = y_train[i]\n",
        "\n",
        "  for i in range(len(y_train[i])):\n",
        "    for c in range(clusters):\n",
        "      if labels[i] == c:\n",
        "        map_labels[c].append(new_y_train[i])\n",
        "\n",
        "  # print(map_labels)\n",
        "\n",
        "  # Criar dicionário com os labells a serem mapeados\n",
        "  mapping = {}\n",
        "\n",
        "  for i in range(clusters):\n",
        "    final = Counter(map_labels[i]) # contar a classe que mais aparece\n",
        "    value = final.most_common(1)[0][0] # retorna a classe com maior frequência\n",
        "    mapping[i] = value\n",
        "\n",
        "  # print(mapping)\n",
        "  result = model.predict(X_test[i])\n",
        "  result = [mapping[j] for j in result]\n",
        "\n",
        "  acc = metrics.accuracy_score(result, y_test[i])\n",
        "  show = round(acc * 100)\n",
        "  print(\"{}%\".format(show))\n",
        "\n",
        "  print(list(result))\n",
        "  print(list(y_test[i]))"
      ],
      "execution_count": 24,
      "outputs": [
        {
          "output_type": "stream",
          "text": [
            "72.0%\n",
            "[1, 1, 1, 1, 1, 1, 1, 3, 2, 2, 2, 3, 2, 3, 3, 2, 2, 3]\n",
            "[1, 1, 1, 1, 1, 1, 2, 2, 2, 2, 2, 2, 2, 3, 3, 3, 3, 3]\n",
            "72.0%\n",
            "[1, 1, 1, 1, 1, 1, 1, 3, 2, 2, 2, 3, 2, 3, 3, 2, 2, 3]\n",
            "[1, 1, 1, 1, 1, 1, 2, 2, 2, 2, 2, 2, 2, 3, 3, 3, 3, 3]\n",
            "72.0%\n",
            "[1, 1, 1, 1, 1, 1, 1, 3, 2, 2, 2, 3, 2, 3, 3, 2, 2, 3]\n",
            "[1, 1, 1, 1, 1, 1, 2, 2, 2, 2, 2, 2, 2, 3, 3, 3, 3, 3]\n",
            "72.0%\n",
            "[1, 1, 1, 1, 1, 1, 1, 3, 2, 2, 2, 3, 2, 3, 3, 2, 2, 3]\n",
            "[1, 1, 1, 1, 1, 1, 2, 2, 2, 2, 2, 2, 2, 3, 3, 3, 3, 3]\n",
            "72.0%\n",
            "[1, 1, 1, 1, 1, 1, 1, 3, 2, 2, 2, 3, 2, 3, 3, 2, 2, 3]\n",
            "[1, 1, 1, 1, 1, 1, 2, 2, 2, 2, 2, 2, 2, 3, 3, 3, 3, 3]\n",
            "72.0%\n",
            "[1, 1, 1, 1, 1, 1, 1, 3, 2, 2, 2, 3, 2, 3, 3, 2, 2, 3]\n",
            "[1, 1, 1, 1, 1, 1, 2, 2, 2, 2, 2, 2, 2, 3, 3, 3, 3, 3]\n",
            "72.0%\n",
            "[1, 1, 1, 1, 1, 1, 1, 3, 2, 2, 2, 3, 2, 3, 3, 2, 2, 3]\n",
            "[1, 1, 1, 1, 1, 1, 2, 2, 2, 2, 2, 2, 2, 3, 3, 3, 3, 3]\n",
            "67.0%\n",
            "[1, 1, 1, 1, 1, 1, 1, 3, 2, 2, 2, 3, 2, 2, 3, 2, 2, 3]\n",
            "[1, 1, 1, 1, 1, 1, 2, 2, 2, 2, 2, 2, 2, 3, 3, 3, 3, 3]\n",
            "72.0%\n",
            "[1, 1, 1, 1, 1, 1, 1, 3, 2, 2, 2, 3, 2, 3, 3, 2, 2, 3]\n",
            "[1, 1, 1, 1, 1, 1, 2, 2, 2, 2, 2, 2, 2, 3, 3, 3, 3, 3]\n",
            "72.0%\n",
            "[1, 1, 1, 1, 1, 1, 1, 3, 2, 2, 2, 3, 2, 3, 3, 2, 2, 3]\n",
            "[1, 1, 1, 1, 1, 1, 2, 2, 2, 2, 2, 2, 2, 3, 3, 3, 3, 3]\n"
          ],
          "name": "stdout"
        }
      ]
    },
    {
      "cell_type": "code",
      "metadata": {
        "id": "M5dYr5XmXQhY"
      },
      "source": [
        "# successMLP1 = [x for x in range(len(mlpTanhAcertos))]\n",
        "# failureMLP1 = [x for x in range(len(mlpTanhErros))]\n",
        "# plt.bar(successMLP1, mlpTanhAcertos, color='green')\n",
        "# plt.bar(failureMLP1, mlpTanhErros, color='red')\n",
        "# plt.ylabel('Percentual')\n",
        "# plt.title('Gráfico do MLP Tanh na arquitetura (5,10,10)')\n",
        "# plt.show()"
      ],
      "execution_count": null,
      "outputs": []
    },
    {
      "cell_type": "code",
      "metadata": {
        "colab": {
          "base_uri": "https://localhost:8080/",
          "height": 281
        },
        "id": "vSqub7M5dbbM",
        "outputId": "ff27b968-2c68-4b46-feab-a43157b47748"
      },
      "source": [
        "# successMLP2 = [x for x in range(len(mlpReluAcertos))]\n",
        "# failureMLP2 = [x for x in range(len(mlpReluErros))]\n",
        "# plt.bar(successMLP2, mlpReluAcertos, color='green')\n",
        "# plt.bar(failureMLP2, mlpReluErros, color='red')\n",
        "# plt.ylabel('Percentual')\n",
        "# plt.title('Gráfico do MLP Relu na arquitetura (5,10,10)')\n",
        "# plt.show()"
      ],
      "execution_count": null,
      "outputs": [
        {
          "output_type": "display_data",
          "data": {
            "image/png": "[encoded data removed]",
            "text/plain": [
              "<Figure size 432x288 with 1 Axes>"
            ]
          },
          "metadata": {
            "tags": [],
            "needs_background": "light"
          }
        }
      ]
    },
    {
      "cell_type": "code",
      "metadata": {
        "colab": {
          "base_uri": "https://localhost:8080/",
          "height": 281
        },
        "id": "X7EgiPE1eqAV",
        "outputId": "0a66d9e5-dfd4-4c22-f5a0-baac22516a24"
      },
      "source": [
        "# successTreeEntropy = [x for x in range(len(arvoreEntropyAcertos))]\n",
        "# failureTreeEntropy = [x for x in range(len(arvoreEntropyErros))]\n",
        "# plt.bar(successTreeEntropy, arvoreEntropyAcertos, color='green')\n",
        "# plt.bar(failureTreeEntropy, arvoreEntropyErros, color='red')\n",
        "# plt.ylabel('Percentual')\n",
        "# plt.title('Gráfico da Arvore Entropy')\n",
        "# plt.show()"
      ],
      "execution_count": null,
      "outputs": [
        {
          "output_type": "display_data",
          "data": {
            "image/png": "[encoded data removed]",
            "text/plain": [
              "<Figure size 432x288 with 1 Axes>"
            ]
          },
          "metadata": {
            "tags": [],
            "needs_background": "light"
          }
        }
      ]
    },
    {
      "cell_type": "code",
      "metadata": {
        "colab": {
          "base_uri": "https://localhost:8080/",
          "height": 281
        },
        "id": "-wRMB90GhGl3",
        "outputId": "610e76da-0ee1-44c2-9e2c-eb1867dd574b"
      },
      "source": [
        "# successTreeGini = [x for x in range(len(arvoreGiniAcertos))]\n",
        "# failureTreeGini = [x for x in range(len(arvoreGiniErros))]\n",
        "# plt.bar(successTreeGini, arvoreGiniAcertos, color='green')\n",
        "# plt.bar(failureTreeGini, arvoreGiniErros, color='red')\n",
        "# plt.ylabel('Percentual')\n",
        "# plt.title('Gráfico da Arvore Gini')\n",
        "# plt.show()"
      ],
      "execution_count": null,
      "outputs": [
        {
          "output_type": "display_data",
          "data": {
            "image/png": "[encoded data removed]",
            "text/plain": [
              "<Figure size 432x288 with 1 Axes>"
            ]
          },
          "metadata": {
            "tags": [],
            "needs_background": "light"
          }
        }
      ]
    },
    {
      "cell_type": "code",
      "metadata": {
        "colab": {
          "base_uri": "https://localhost:8080/",
          "height": 281
        },
        "id": "h2Oi2W-eipIp",
        "outputId": "6a1cc0b1-f57c-4a4a-f6ef-a9cd1a2b601c"
      },
      "source": [
        "# successKnn5 = [x for x in range(len(knn5Acertos))]\n",
        "# failureKnn5 = [x for x in range(len(knn5Erros))]\n",
        "# plt.bar(successKnn5, knn5Acertos, color='green')\n",
        "# plt.bar(failureKnn5, knn5Erros, color='red')\n",
        "# plt.ylabel('Percentual')\n",
        "# plt.title('Gráfico da Arvore Gini')\n",
        "# plt.show()"
      ],
      "execution_count": null,
      "outputs": [
        {
          "output_type": "display_data",
          "data": {
            "image/png": "[encoded data removed]",
            "text/plain": [
              "<Figure size 432x288 with 1 Axes>"
            ]
          },
          "metadata": {
            "tags": [],
            "needs_background": "light"
          }
        }
      ]
    },
    {
      "cell_type": "code",
      "metadata": {
        "colab": {
          "base_uri": "https://localhost:8080/",
          "height": 281
        },
        "id": "agy0CHRorkQJ",
        "outputId": "a95a7bc2-9ef0-42e3-b65f-94669211ff61"
      },
      "source": [
        "# successKnn10 = [x for x in range(len(knn10Acertos))]\n",
        "# failureKnn10 = [x for x in range(len(knn10Erros))]\n",
        "# plt.bar(successKnn10, knn10Acertos, color='green')\n",
        "# plt.bar(failureKnn10, knn10Erros, color='red')\n",
        "# plt.ylabel('Percentual')\n",
        "# plt.title('Gráfico da Arvore Gini')\n",
        "# plt.show()"
      ],
      "execution_count": null,
      "outputs": [
        {
          "output_type": "display_data",
          "data": {
            "image/png": "[encoded data removed]",
            "text/plain": [
              "<Figure size 432x288 with 1 Axes>"
            ]
          },
          "metadata": {
            "tags": [],
            "needs_background": "light"
          }
        }
      ]
    },
    {
      "cell_type": "markdown",
      "metadata": {
        "id": "cKWoWDksjcWR"
      },
      "source": [
        ""
      ]
    }
  ]
}