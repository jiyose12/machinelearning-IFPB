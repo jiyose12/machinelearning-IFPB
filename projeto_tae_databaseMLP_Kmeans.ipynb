{
  "nbformat": 4,
  "nbformat_minor": 0,
  "metadata": {
    "colab": {
      "name": "projeto_tae_databaseMLP_Kmeans.ipynb",
      "provenance": [],
      "collapsed_sections": [],
      "include_colab_link": true
    },
    "kernelspec": {
      "name": "python3",
      "display_name": "Python 3"
    }
  },
  "cells": [
    {
      "cell_type": "markdown",
      "metadata": {
        "id": "view-in-github",
        "colab_type": "text"
      },
      "source": [
        "<a href=\"https://colab.research.google.com/github/jiyose12/machinelearning-IFPB/blob/master/projeto_tae_databaseMLP_Kmeans.ipynb\" target=\"_parent\"><img src=\"https://colab.research.google.com/assets/colab-badge.svg\" alt=\"Open In Colab\"/></a>"
      ]
    },
    {
      "cell_type": "code",
      "metadata": {
        "colab": {
          "base_uri": "https://localhost:8080/"
        },
        "id": "LpZXaVvBOBVj",
        "outputId": "cb7f42ce-6edc-490d-ad94-72e21955a39b"
      },
      "source": [
        "from sklearn import metrics\n",
        "import pandas as pd\n",
        "from sklearn.neural_network import MLPClassifier\n",
        "from sklearn.neighbors import KNeighborsClassifier\n",
        "import numpy as np\n",
        "from sklearn import tree\n",
        "from sklearn.model_selection import train_test_split\n",
        "import matplotlib.pyplot as plt\n",
        "from sklearn.cluster import KMeans\n",
        "from collections import Counter\n",
        "\n",
        "url = \"https://raw.githubusercontent.com/victorx9999/MachineLearning/master/data/tae.data\"\n",
        " \n",
        "# Carregar base de dados\n",
        "dataset = pd.read_csv(url, header=None)\n",
        " \n",
        "columns = len(dataset.columns)\n",
        " \n",
        "y = dataset[0] # extrai a primeira coluna, que é o label\n",
        "X = dataset.loc[:,1:columns]\n",
        "print(X)\n",
        "print(columns)\n",
        "# Transforma para Array NumPy\n",
        "X = np.array(X)\n",
        "y = np.array(y)\n",
        "\n"
      ],
      "execution_count": null,
      "outputs": [
        {
          "output_type": "stream",
          "text": [
            "      1   2  3   4  5\n",
            "0    23   3  1  19  3\n",
            "1    15   3  1  17  3\n",
            "2    23   3  2  49  3\n",
            "3     5   2  2  33  3\n",
            "4     7  11  2  55  3\n",
            "..   ..  .. ..  .. ..\n",
            "146   3   2  2  26  1\n",
            "147  10   3  2  12  1\n",
            "148  18   7  2  48  1\n",
            "149  22   1  2  51  1\n",
            "150   2  10  2  27  1\n",
            "\n",
            "[151 rows x 5 columns]\n",
            "6\n"
          ],
          "name": "stdout"
        }
      ]
    },
    {
      "cell_type": "code",
      "metadata": {
        "id": "2_d0NhcnOHMe"
      },
      "source": [
        "from sklearn.model_selection import StratifiedKFold\n",
        "from collections import Counter\n",
        "folds = 10\n",
        " \n",
        "kf = StratifiedKFold(n_splits = folds)\n",
        " \n",
        "## 10 conjuntos de dados\n",
        "X_train = []\n",
        "y_train = []\n",
        " \n",
        "X_test = []\n",
        "y_test = []\n",
        " \n",
        "for train_index, test_index in kf.split(X,y):\n",
        "  \n",
        "  X_train.append(X[train_index])\n",
        "  X_test.append(X[test_index])\n",
        "  \n",
        "  y_train.append(y[train_index])\n",
        "  y_test.append(y[test_index])"
      ],
      "execution_count": null,
      "outputs": []
    },
    {
      "cell_type": "code",
      "metadata": {
        "id": "l-d11t6COIdT",
        "colab": {
          "base_uri": "https://localhost:8080/"
        },
        "outputId": "e6613a7c-72e2-46c4-dd0b-286326b185dc"
      },
      "source": [
        "wine_results = {\n",
        "    'tree_entropy': [],\n",
        "    'tree_gini': [],\n",
        "    'knn5': [],\n",
        "    'knn10': [],\n",
        "    'mlp_tanh_51010': [],\n",
        "    'mlp_relu_51010': [],\n",
        "    'mlp_tanh_48': [],\n",
        "    'mlp_relu_48': [],\n",
        "    'kmeans': [],\n",
        "} \n",
        "\n",
        "# Configuração do Kmeans\n",
        "myset = set(y) # Cria um conjunto. Em conjuntos, dados não se repetem. Assim, esse conjunto conterá apenas um valor de cada\n",
        "clusters = len(myset) # Quantos clusters teremos no KMeans\n",
        "print(myset)\n",
        "print(clusters)\n",
        "for i in range(folds):\n",
        "  # MLP TANH\n",
        "  mlpTanhModel = MLPClassifier(hidden_layer_sizes=(5,10,10), activation='tanh', max_iter=3000, random_state=1)\n",
        "  mlpTanhModel = mlpTanhModel.fit(X_train[i], y_train[i])\n",
        "  mlpTanhResult = mlpTanhModel.predict(X_test[i])\n",
        "  mlpTanhAcc = metrics.accuracy_score(mlpTanhResult, y_test[i])\n",
        "  wine_results['mlp_tanh_51010'].append(round(mlpTanhAcc * 100))\n",
        "\n",
        "  # MLP TANH 2.0\n",
        "  mlpTanhModel2 = MLPClassifier(hidden_layer_sizes=(4,8), activation='tanh', max_iter=2000, random_state=1)\n",
        "  mlpTanhModel2 = mlpTanhModel2.fit(X_train[i], y_train[i])\n",
        "  mlpTanhResult2 = mlpTanhModel2.predict(X_test[i])\n",
        "  mlpTanhAcc2 = metrics.accuracy_score(mlpTanhResult2, y_test[i])\n",
        "  wine_results['mlp_tanh_48'].append(round(mlpTanhAcc2 * 100))\n",
        "\n",
        "  # MLP RELU\n",
        "  mlpReluModel = MLPClassifier(hidden_layer_sizes=(4,8), activation=\"relu\", max_iter=3000, random_state=1)\n",
        "  mlpReluModel = mlpReluModel.fit(X_train[i], y_train[i])\n",
        "  mlpReluResult = mlpReluModel.predict(X_test[i])\n",
        "  mlpReluAcc = metrics.accuracy_score(mlpReluResult, y_test[i])\n",
        "  wine_results['mlp_relu_51010'].append(round(mlpReluAcc * 100))\n",
        "\n",
        "  #MLP RELU 2.0  \n",
        "  mlpReluModel2 = MLPClassifier(hidden_layer_sizes=(5,10,10), activation=\"relu\", max_iter=3000, random_state=1)\n",
        "  mlpReluModel2 = mlpReluModel2.fit(X_train[i], y_train[i])\n",
        "  mlpReluResult2 = mlpReluModel2.predict(X_test[i])\n",
        "  mlpReluAcc2 = metrics.accuracy_score(mlpReluResult2, y_test[i])\n",
        "  wine_results['mlp_relu_48'].append(round(mlpReluAcc2 * 100))\n",
        "\n",
        "  # ARVORE ENTROPY\n",
        "  arvoreEntropyModel = tree.DecisionTreeClassifier(criterion=\"entropy\")\n",
        "  arvoreEntropyModel = arvoreEntropyModel.fit(X_train[i], y_train[i])\n",
        "  arvoreEntropyresult = arvoreEntropyModel.predict(X_test[i])\n",
        "  arvoreEntropyacc = metrics.accuracy_score(arvoreEntropyresult, y_test[i])\n",
        "  wine_results['tree_entropy'].append(round(arvoreEntropyacc * 100))\n",
        " \n",
        "  # ARVORE GINI\n",
        "  arvoreGiniModel = tree.DecisionTreeClassifier(criterion=\"gini\")\n",
        "  arvoreGiniModel = arvoreGiniModel.fit(X_train[i], y_train[i])\n",
        "  arvoreGiniresult = arvoreGiniModel.predict(X_test[i])\n",
        "  arvoreGiniacc = metrics.accuracy_score(arvoreGiniresult, y_test[i])\n",
        "  wine_results['tree_gini'].append(round(arvoreGiniacc * 100))\n",
        "\n",
        "  # KNN 5\n",
        "  knn5model = KNeighborsClassifier(n_neighbors=5, metric='manhattan', algorithm='brute')\n",
        "  knn5model = knn5model.fit(X_train[i], y_train[i])\n",
        "  result_knn5 = knn5model.predict(X_test[i])\n",
        "  knn5acc = metrics.accuracy_score(result_knn5, y_test[i])\n",
        "  wine_results['knn5'].append(round(knn5acc * 100))\n",
        "\n",
        "  # KNN 10\n",
        "  knn10model = KNeighborsClassifier(n_neighbors=10, metric='manhattan', algorithm='brute')\n",
        "  knn10model = knn10model.fit(X_train[i], y_train[i])\n",
        "  result_knn10 = knn10model.predict(X_test[i])\n",
        "  knn10acc = metrics.accuracy_score(result_knn10, y_test[i])\n",
        "  wine_results['knn10'].append(round(knn10acc * 100))\n",
        "  \n",
        "  # KMEANS\n",
        "  model = KMeans(n_clusters = clusters)\n",
        "  model = model.fit(X_train[i])\n",
        "  # Pegar os labels dos padrões de Treinamento\n",
        "  labels = model.labels_\n",
        "\n",
        "  map_labels = []\n",
        "\n",
        "  for a in range(clusters):\n",
        "    map_labels.append([])\n",
        "\n",
        "  new_y_train = y_train[i]\n",
        "\n",
        "  for b in range(len(y_train[i])):\n",
        "    for c in range(clusters):\n",
        "      if labels[b] == c:\n",
        "        map_labels[c].append(new_y_train[b])\n",
        "  # print(map_labels)\n",
        "  # Criar dicionário com os labells a serem mapeados\n",
        "  mapping = {}\n",
        "\n",
        "  for d in range(clusters):\n",
        "    final = Counter(map_labels[d]) # contar a classe que mais aparece\n",
        "    value = final.most_common(1)[0][0] # retorna a classe com maior frequência\n",
        "    mapping[d] = value\n",
        "  # print(mapping)\n",
        "  result = model.predict(X_test[i])\n",
        "  result = [mapping[j] for j in result]\n",
        "\n",
        "  acc = metrics.accuracy_score(result, y_test[i])\n",
        "  wine_results['kmeans'].append(round(acc * 100))\n"
      ],
      "execution_count": null,
      "outputs": [
        {
          "output_type": "stream",
          "text": [
            "{1, 2}\n",
            "2\n"
          ],
          "name": "stdout"
        }
      ]
    },
    {
      "cell_type": "code",
      "metadata": {
        "colab": {
          "base_uri": "https://localhost:8080/",
          "height": 316
        },
        "id": "kq0w_5ZlP3dr",
        "outputId": "7a7f90ef-adb1-4578-c217-052d27c37c12"
      },
      "source": [
        "# Gráfico de Perdas MLPs\n",
        "import matplotlib.pyplot as plt\n",
        "\n",
        "# print(\"MLP Tahn 5,10,10\")\n",
        "# mlpTanhModel = MLPClassifier(hidden_layer_sizes=(5,10,10), activation='tanh', max_iter=3000, random_state=1)\n",
        "# mlpTanhModel = mlpTanhModel.fit(X_train[0], y_train[0])\n",
        "# plt.plot(mlpTanhModel.loss_curve_)\n",
        "print(\"MLP Relu 5,10,10\")\n",
        "mlpReluModel = MLPClassifier(hidden_layer_sizes=(5,10,10), activation='relu', max_iter=3000, random_state=1)\n",
        "mlpReluModel = mlpReluModel.fit(X_train[0], y_train[0])\n",
        "plt.plot(mlpReluModel.loss_curve_)\n",
        "# print(\"MLP Tahn 5,10\")\n",
        "# mlpTanhModel2 = MLPClassifier(hidden_layer_sizes=(5,10), activation='tanh', max_iter=3000, random_state=1)\n",
        "# mlpTanhModel2 = mlpTanhModel2.fit(X_train[0], y_train[0])\n",
        "# plt.plot(mlpTanhModel2.loss_curve_)\n",
        "print(\"MLP Relu 5,10\")\n",
        "mlpReluModel2 = MLPClassifier(hidden_layer_sizes=(5,10), activation='relu', max_iter=3000, random_state=1)\n",
        "mlpReluModel2 = mlpReluModel2.fit(X_train[0], y_train[0])\n",
        "plt.plot(mlpReluModel2.loss_curve_)"
      ],
      "execution_count": null,
      "outputs": [
        {
          "output_type": "stream",
          "text": [
            "MLP Relu 5,10,10\n",
            "MLP Relu 5,10\n"
          ],
          "name": "stdout"
        },
        {
          "output_type": "execute_result",
          "data": {
            "text/plain": [
              "[<matplotlib.lines.Line2D at 0x7f40916cb278>]"
            ]
          },
          "metadata": {
            "tags": []
          },
          "execution_count": 4
        },
        {
          "output_type": "display_data",
          "data": {
            "image/png": "[encoded data removed]",
            "text/plain": [
              "<Figure size 432x288 with 1 Axes>"
            ]
          },
          "metadata": {
            "tags": [],
            "needs_background": "light"
          }
        }
      ]
    },
    {
      "cell_type": "code",
      "metadata": {
        "colab": {
          "base_uri": "https://localhost:8080/"
        },
        "id": "C83k658uOM-Y",
        "outputId": "66c72226-fe95-42fa-cc32-6048961e650e"
      },
      "source": [
        "print('MLP TANH (5,10,10)')\n",
        "print(round(np.mean(wine_results['mlp_tanh_51010'])))\n",
        "print('MLP RELU (5,10,10)')\n",
        "print(round(np.mean(wine_results['mlp_relu_51010'])))\n",
        "print(\"MLP TANH (4,8)\")\n",
        "print(round(np.mean(wine_results['mlp_tanh_48'])))\n",
        "print(\"MLP RELU (4,8)\")\n",
        "print(round(np.mean(wine_results['mlp_relu_48'])))\n",
        "print(\"ARVORE GINI\")\n",
        "print(round(np.mean(wine_results['tree_gini'])))\n",
        "print(\"ARVORE ENTROPY\")\n",
        "print(round(np.mean(wine_results['tree_entropy'])))\n",
        "print(\"KNN 5\")\n",
        "print(round(np.mean(wine_results['knn5'])))\n",
        "print(\"KNN 10\")\n",
        "print(round(np.mean(wine_results['knn10'])))\n",
        "print(\"KMeans\")\n",
        "print(round(np.mean(wine_results['kmeans'])))\n"
      ],
      "execution_count": null,
      "outputs": [
        {
          "output_type": "stream",
          "text": [
            "MLP TANH (5,10,10)\n",
            "81.0\n",
            "MLP RELU (5,10,10)\n",
            "81.0\n",
            "MLP TANH (4,8)\n",
            "81.0\n",
            "MLP RELU (4,8)\n",
            "79.0\n",
            "ARVORE GINI\n",
            "82.0\n",
            "ARVORE ENTROPY\n",
            "82.0\n",
            "KNN 5\n",
            "75.0\n",
            "KNN 10\n",
            "79.0\n",
            "KMeans\n",
            "81.0\n"
          ],
          "name": "stdout"
        }
      ]
    },
    {
      "cell_type": "code",
      "metadata": {
        "colab": {
          "base_uri": "https://localhost:8080/",
          "height": 317
        },
        "id": "LoFGqiSH4xxj",
        "outputId": "bd80c8a3-520d-4e1a-f546-0e47430d997d"
      },
      "source": [
        "pd.DataFrame.from_dict(wine_results, orient='index')"
      ],
      "execution_count": null,
      "outputs": [
        {
          "output_type": "execute_result",
          "data": {
            "text/html": [
              "<div>\n",
              "<style scoped>\n",
              "    .dataframe tbody tr th:only-of-type {\n",
              "        vertical-align: middle;\n",
              "    }\n",
              "\n",
              "    .dataframe tbody tr th {\n",
              "        vertical-align: top;\n",
              "    }\n",
              "\n",
              "    .dataframe thead th {\n",
              "        text-align: right;\n",
              "    }\n",
              "</style>\n",
              "<table border=\"1\" class=\"dataframe\">\n",
              "  <thead>\n",
              "    <tr style=\"text-align: right;\">\n",
              "      <th></th>\n",
              "      <th>0</th>\n",
              "      <th>1</th>\n",
              "      <th>2</th>\n",
              "      <th>3</th>\n",
              "      <th>4</th>\n",
              "      <th>5</th>\n",
              "      <th>6</th>\n",
              "      <th>7</th>\n",
              "      <th>8</th>\n",
              "      <th>9</th>\n",
              "    </tr>\n",
              "  </thead>\n",
              "  <tbody>\n",
              "    <tr>\n",
              "      <th>tree_entropy</th>\n",
              "      <td>100.0</td>\n",
              "      <td>100.0</td>\n",
              "      <td>100.0</td>\n",
              "      <td>87.0</td>\n",
              "      <td>93.0</td>\n",
              "      <td>67.0</td>\n",
              "      <td>73.0</td>\n",
              "      <td>80.0</td>\n",
              "      <td>47.0</td>\n",
              "      <td>73.0</td>\n",
              "    </tr>\n",
              "    <tr>\n",
              "      <th>tree_gini</th>\n",
              "      <td>100.0</td>\n",
              "      <td>100.0</td>\n",
              "      <td>100.0</td>\n",
              "      <td>87.0</td>\n",
              "      <td>93.0</td>\n",
              "      <td>67.0</td>\n",
              "      <td>73.0</td>\n",
              "      <td>80.0</td>\n",
              "      <td>47.0</td>\n",
              "      <td>73.0</td>\n",
              "    </tr>\n",
              "    <tr>\n",
              "      <th>knn5</th>\n",
              "      <td>81.0</td>\n",
              "      <td>80.0</td>\n",
              "      <td>87.0</td>\n",
              "      <td>73.0</td>\n",
              "      <td>80.0</td>\n",
              "      <td>67.0</td>\n",
              "      <td>73.0</td>\n",
              "      <td>73.0</td>\n",
              "      <td>67.0</td>\n",
              "      <td>73.0</td>\n",
              "    </tr>\n",
              "    <tr>\n",
              "      <th>knn10</th>\n",
              "      <td>88.0</td>\n",
              "      <td>80.0</td>\n",
              "      <td>80.0</td>\n",
              "      <td>80.0</td>\n",
              "      <td>80.0</td>\n",
              "      <td>80.0</td>\n",
              "      <td>73.0</td>\n",
              "      <td>73.0</td>\n",
              "      <td>80.0</td>\n",
              "      <td>80.0</td>\n",
              "    </tr>\n",
              "    <tr>\n",
              "      <th>mlp_tanh_51010</th>\n",
              "      <td>81.0</td>\n",
              "      <td>80.0</td>\n",
              "      <td>80.0</td>\n",
              "      <td>80.0</td>\n",
              "      <td>80.0</td>\n",
              "      <td>80.0</td>\n",
              "      <td>80.0</td>\n",
              "      <td>80.0</td>\n",
              "      <td>80.0</td>\n",
              "      <td>87.0</td>\n",
              "    </tr>\n",
              "    <tr>\n",
              "      <th>mlp_relu_51010</th>\n",
              "      <td>81.0</td>\n",
              "      <td>80.0</td>\n",
              "      <td>80.0</td>\n",
              "      <td>80.0</td>\n",
              "      <td>80.0</td>\n",
              "      <td>80.0</td>\n",
              "      <td>80.0</td>\n",
              "      <td>80.0</td>\n",
              "      <td>80.0</td>\n",
              "      <td>87.0</td>\n",
              "    </tr>\n",
              "    <tr>\n",
              "      <th>mlp_tanh_48</th>\n",
              "      <td>81.0</td>\n",
              "      <td>80.0</td>\n",
              "      <td>80.0</td>\n",
              "      <td>80.0</td>\n",
              "      <td>80.0</td>\n",
              "      <td>80.0</td>\n",
              "      <td>80.0</td>\n",
              "      <td>80.0</td>\n",
              "      <td>80.0</td>\n",
              "      <td>87.0</td>\n",
              "    </tr>\n",
              "    <tr>\n",
              "      <th>mlp_relu_48</th>\n",
              "      <td>88.0</td>\n",
              "      <td>87.0</td>\n",
              "      <td>87.0</td>\n",
              "      <td>87.0</td>\n",
              "      <td>80.0</td>\n",
              "      <td>73.0</td>\n",
              "      <td>73.0</td>\n",
              "      <td>87.0</td>\n",
              "      <td>53.0</td>\n",
              "      <td>73.0</td>\n",
              "    </tr>\n",
              "    <tr>\n",
              "      <th>kmeans</th>\n",
              "      <td>81.0</td>\n",
              "      <td>80.0</td>\n",
              "      <td>80.0</td>\n",
              "      <td>80.0</td>\n",
              "      <td>80.0</td>\n",
              "      <td>80.0</td>\n",
              "      <td>80.0</td>\n",
              "      <td>80.0</td>\n",
              "      <td>80.0</td>\n",
              "      <td>87.0</td>\n",
              "    </tr>\n",
              "  </tbody>\n",
              "</table>\n",
              "</div>"
            ],
            "text/plain": [
              "                    0      1      2     3     4     5     6     7     8     9\n",
              "tree_entropy    100.0  100.0  100.0  87.0  93.0  67.0  73.0  80.0  47.0  73.0\n",
              "tree_gini       100.0  100.0  100.0  87.0  93.0  67.0  73.0  80.0  47.0  73.0\n",
              "knn5             81.0   80.0   87.0  73.0  80.0  67.0  73.0  73.0  67.0  73.0\n",
              "knn10            88.0   80.0   80.0  80.0  80.0  80.0  73.0  73.0  80.0  80.0\n",
              "mlp_tanh_51010   81.0   80.0   80.0  80.0  80.0  80.0  80.0  80.0  80.0  87.0\n",
              "mlp_relu_51010   81.0   80.0   80.0  80.0  80.0  80.0  80.0  80.0  80.0  87.0\n",
              "mlp_tanh_48      81.0   80.0   80.0  80.0  80.0  80.0  80.0  80.0  80.0  87.0\n",
              "mlp_relu_48      88.0   87.0   87.0  87.0  80.0  73.0  73.0  87.0  53.0  73.0\n",
              "kmeans           81.0   80.0   80.0  80.0  80.0  80.0  80.0  80.0  80.0  87.0"
            ]
          },
          "metadata": {
            "tags": []
          },
          "execution_count": 6
        }
      ]
    }
  ]
}